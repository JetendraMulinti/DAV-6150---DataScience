{
 "cells": [
  {
   "cell_type": "markdown",
   "id": "197ec994",
   "metadata": {},
   "source": [
    "# Team Members:\n",
    "\n",
    "Jetendra Mulinti, Goutham Vemula, Prajeeth Nakka"
   ]
  },
  {
   "cell_type": "markdown",
   "id": "6c500853",
   "metadata": {},
   "source": [
    "Introduction: We are trying create a model which estimates shares of an online article\n",
    "\n",
    "Steps we are following\n",
    "1. Loading data\n",
    "2. Cleaning data\n",
    "3. EDA\n",
    "4. Feature selection & PCA\n",
    "5. Normalizing the data\n",
    "6. Train the model with linear regression\n",
    "7. Adding Cross Validation step."
   ]
  },
  {
   "cell_type": "code",
   "execution_count": null,
   "id": "074ac348",
   "metadata": {},
   "outputs": [],
   "source": [
    "### Import packages\n",
    "\n",
    "import warnings\n",
    "warnings.filterwarnings('ignore')\n",
    "import pandas as pd\n",
    "pd.options.display.max_columns = 999\n",
    "import numpy as np\n",
    "import matplotlib.pyplot as plt\n",
    "from matplotlib.backends.backend_pdf import PdfPages\n",
    "import seaborn as sns\n",
    "import os\n",
    "\n",
    "### sklearn\n",
    "from sklearn.model_selection import train_test_split\n",
    "from sklearn.metrics import mean_squared_error, r2_score,mean_absolute_error\n",
    "\n",
    "###### Standardization of the variables\n",
    "from sklearn.preprocessing import StandardScaler\n",
    "scaler = StandardScaler()\n",
    "\n",
    "#### Modelling\n",
    "from sklearn.linear_model import LinearRegression\n",
    "from sklearn.linear_model import Ridge\n",
    "from sklearn.model_selection import cross_val_score, KFold"
   ]
  },
  {
   "cell_type": "markdown",
   "id": "c0afda1b",
   "metadata": {},
   "source": [
    "# Loading Data"
   ]
  },
  {
   "cell_type": "code",
   "execution_count": null,
   "id": "5a673740",
   "metadata": {},
   "outputs": [],
   "source": [
    "### load data from csv via github url\n",
    "\n",
    "github_url = 'https://raw.githubusercontent.com/JetendraMulinti/DAV-6150---DataScience/main/M2%20Practical%20Challenge%20Cross%20Validating%20a%20Linear%20Regression%20Model/M2_Data.csv'\n",
    "\n",
    "automobile_df = pd.read_csv(github_url)\n",
    "automobile_df.head(2)"
   ]
  }
 ],
 "metadata": {
  "kernelspec": {
   "display_name": "Python 3 (ipykernel)",
   "language": "python",
   "name": "python3"
  },
  "language_info": {
   "codemirror_mode": {
    "name": "ipython",
    "version": 3
   },
   "file_extension": ".py",
   "mimetype": "text/x-python",
   "name": "python",
   "nbconvert_exporter": "python",
   "pygments_lexer": "ipython3",
   "version": "3.9.16"
  }
 },
 "nbformat": 4,
 "nbformat_minor": 5
}
