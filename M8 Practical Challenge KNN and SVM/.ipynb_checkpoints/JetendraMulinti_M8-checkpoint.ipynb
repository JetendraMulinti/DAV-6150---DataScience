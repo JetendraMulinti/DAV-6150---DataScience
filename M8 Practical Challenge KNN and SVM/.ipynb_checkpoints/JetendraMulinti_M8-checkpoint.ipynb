{
 "cells": [
  {
   "cell_type": "markdown",
   "id": "3a7d33bc-e50a-4367-8e8e-3a8644cec997",
   "metadata": {
    "id": "3a7d33bc-e50a-4367-8e8e-3a8644cec997"
   },
   "source": [
    "# Team Members:\n",
    "\n",
    "Jetendra Mulinti, Goutham Vemula, Prajeeth Nakka"
   ]
  },
  {
   "cell_type": "markdown",
   "id": "f2851af4-f77e-4e28-ae91-eaf0e09795cd",
   "metadata": {
    "id": "f2851af4-f77e-4e28-ae91-eaf0e09795cd"
   },
   "source": [
    "# Introduction:\n",
    "We are creating clusters on our insurance company customers data using at least two different KNN models and at least two different SVM models and picking the best model.\n",
    "\n",
    "Steps we are following\n",
    "1. Loading data\n",
    "2. Cleaning data\n",
    "3. EDA\n",
    "4. Feature selection\n",
    "5. Train the model with 4 Models\n",
    "6. Validating Metrics.\n",
    "7. Selecting Models\n",
    "8. Conclusion"
   ]
  },
  {
   "cell_type": "code",
   "execution_count": null,
   "id": "88d73d3d-a4f1-40e6-917e-38d967689125",
   "metadata": {
    "id": "88d73d3d-a4f1-40e6-917e-38d967689125"
   },
   "outputs": [],
   "source": [
    "### Import packages\n",
    "\n",
    "import warnings\n",
    "warnings.filterwarnings('ignore')\n",
    "import pandas as pd\n",
    "pd.options.display.max_columns = 999\n",
    "import numpy as np\n",
    "import matplotlib\n",
    "import matplotlib.pyplot as plt\n",
    "from matplotlib.backends.backend_pdf import PdfPages\n",
    "import seaborn as sns\n",
    "import os\n",
    "from datetime import datetime\n",
    "\n",
    "\n",
    "\n",
    "from sklearn.model_selection import train_test_split\n",
    "from sklearn.linear_model import LogisticRegression\n",
    "from sklearn.metrics import accuracy_score, precision_score, recall_score, f1_score, roc_auc_score\n"
   ]
  },
  {
   "cell_type": "markdown",
   "id": "17840411-88b2-4e42-838b-55737bd84be0",
   "metadata": {
    "id": "17840411-88b2-4e42-838b-55737bd84be0"
   },
   "source": [
    "# Data Loading"
   ]
  },
  {
   "cell_type": "code",
   "execution_count": null,
   "id": "fd3ef375-6b8b-4a9a-81b0-f327588d0efe",
   "metadata": {
    "colab": {
     "base_uri": "https://localhost:8080/",
     "height": 112
    },
    "id": "fd3ef375-6b8b-4a9a-81b0-f327588d0efe",
    "outputId": "258bde58-2d9e-4f7c-c2d4-c3629ec906b2"
   },
   "outputs": [],
   "source": [
    "github_url = 'https://raw.githubusercontent.com/JetendraMulinti/DAV-6150---DataScience/main/M7%20Practical%20Challenge%20Binary%20Logistic%20Regression/M7_Data.csv'\n",
    "\n",
    "df = pd.read_csv(github_url)\n",
    "df.head(2)"
   ]
  },
  {
   "cell_type": "markdown",
   "id": "23e3dd52-c617-43e1-b77e-9afb9c152a5d",
   "metadata": {
    "id": "23e3dd52-c617-43e1-b77e-9afb9c152a5d"
   },
   "source": [
    "## Data Dictionary\n",
    "\n",
    "TARGET: Indicator of buying the new product (0 = no, 1= yes)\n",
    "\n",
    "loyalty: Loyalty level, from low to high (0 to 3), 99 = unclassified\n",
    "\n",
    "ID: Unique customer identifier\n",
    "\n",
    "age: Age in years\n",
    "\n",
    "city: Unique code per city\n",
    "\n",
    "LOR: Length of relationship in years\n",
    "\n",
    "prod_A: Bought product A (0= no, 1=yes)\n",
    "\n",
    "type_A: Type of product A\n",
    "\n",
    "type_B: Type of product B\n",
    "\n",
    "prod_B: Bought product B (0= no, 1=yes)\n",
    "\n",
    "turnover_A: Amount of money spent on product A\n",
    "\n",
    "turnover_B: Amount of money spent on product B\n",
    "\n",
    "contract: Type of contract\n",
    "\n",
    "age_P: Age of partner in years\n",
    "\n",
    "lor_M: Length of relationship in months"
   ]
  },
  {
   "cell_type": "code",
   "execution_count": null,
   "id": "283b6fc0-4230-4ddd-a691-9b1b448f136e",
   "metadata": {
    "colab": {
     "base_uri": "https://localhost:8080/"
    },
    "id": "283b6fc0-4230-4ddd-a691-9b1b448f136e",
    "outputId": "36e6ef16-3b6e-4271-9a8d-41491ef2d3c8"
   },
   "outputs": [],
   "source": [
    "df.columns"
   ]
  },
  {
   "cell_type": "markdown",
   "id": "346cb669-840d-4408-9075-d087eb6e5c76",
   "metadata": {
    "id": "346cb669-840d-4408-9075-d087eb6e5c76"
   },
   "source": [
    "## Data cleaning"
   ]
  },
  {
   "cell_type": "code",
   "execution_count": null,
   "id": "f23e91c5-1ef4-4d2c-a45f-7bf9e184d146",
   "metadata": {
    "colab": {
     "base_uri": "https://localhost:8080/"
    },
    "id": "f23e91c5-1ef4-4d2c-a45f-7bf9e184d146",
    "outputId": "19f02452-f315-46a5-fd55-48ba0656142e"
   },
   "outputs": [],
   "source": [
    "df.isnull().sum()"
   ]
  },
  {
   "cell_type": "code",
   "execution_count": null,
   "id": "96704bbb-da19-40d3-943d-f147aeec05e3",
   "metadata": {
    "colab": {
     "base_uri": "https://localhost:8080/"
    },
    "id": "96704bbb-da19-40d3-943d-f147aeec05e3",
    "outputId": "b314dd44-38bc-478d-9828-47821dccda76"
   },
   "outputs": [],
   "source": [
    "### check duplicates\n",
    "\n",
    "print(\"No of rows duplicates: \",len(df[df.duplicated()]))\n",
    "\n",
    "## dropping\n",
    "\n",
    "df = df.drop_duplicates().reset_index(drop=True)\n",
    "df.head(2)\n",
    "\n",
    "print(\"No of rows duplicates: \",len(df[df.duplicated()]))"
   ]
  },
  {
   "cell_type": "code",
   "execution_count": null,
   "id": "17911f3f-5dad-4648-a85b-468260254a88",
   "metadata": {
    "colab": {
     "base_uri": "https://localhost:8080/"
    },
    "id": "17911f3f-5dad-4648-a85b-468260254a88",
    "outputId": "0ea4d51a-dac1-4891-c136-a0af0eae6666"
   },
   "outputs": [],
   "source": [
    "df['TARGET'].value_counts()"
   ]
  },
  {
   "cell_type": "code",
   "execution_count": null,
   "id": "431b36c1-8874-4053-8239-b06d9285ca8b",
   "metadata": {
    "colab": {
     "base_uri": "https://localhost:8080/"
    },
    "id": "431b36c1-8874-4053-8239-b06d9285ca8b",
    "outputId": "ec67c4bd-1391-4040-9818-4269a8da89bc"
   },
   "outputs": [],
   "source": [
    "#### Changing the Target column values to 0 & 1\n",
    "\n",
    "df['TARGET'] = df['TARGET'].replace('N',0)\n",
    "df['TARGET'] = df['TARGET'].replace('Y',1)\n",
    "\n",
    "df['TARGET'].value_counts()"
   ]
  },
  {
   "cell_type": "code",
   "execution_count": null,
   "id": "a51fb57f-3c0c-4f6b-ae2a-3f9d9e8b9e59",
   "metadata": {
    "colab": {
     "base_uri": "https://localhost:8080/"
    },
    "id": "a51fb57f-3c0c-4f6b-ae2a-3f9d9e8b9e59",
    "outputId": "e5954f00-677f-4d7a-ea3d-5e51c5846433"
   },
   "outputs": [],
   "source": [
    "df['TARGET'].value_counts()"
   ]
  },
  {
   "cell_type": "code",
   "execution_count": null,
   "id": "63210b04-5baf-488f-87aa-05af9ac4e272",
   "metadata": {
    "colab": {
     "base_uri": "https://localhost:8080/"
    },
    "id": "63210b04-5baf-488f-87aa-05af9ac4e272",
    "outputId": "ba04aff1-5338-449d-f1fd-5e36e4969dc9"
   },
   "outputs": [],
   "source": [
    "len(df[df['city'] <= 0]), len(df[df['city'] >= 0])"
   ]
  },
  {
   "cell_type": "code",
   "execution_count": null,
   "id": "df93c7a4-f03f-45f1-a000-b24aed082ea3",
   "metadata": {
    "colab": {
     "base_uri": "https://localhost:8080/",
     "height": 300
    },
    "id": "df93c7a4-f03f-45f1-a000-b24aed082ea3",
    "outputId": "940ea490-a299-4c01-d274-a70cdfc5d033"
   },
   "outputs": [],
   "source": [
    "df.describe()"
   ]
  },
  {
   "cell_type": "markdown",
   "id": "b92f58b4-1a91-4aef-bbe5-fd712e702117",
   "metadata": {
    "id": "b92f58b4-1a91-4aef-bbe5-fd712e702117"
   },
   "source": [
    "### points to check\n",
    "\n",
    "1. age_P min value is 5\n",
    "2. planning to remove city value -> -999999, as no of rows are only 8"
   ]
  },
  {
   "cell_type": "code",
   "execution_count": null,
   "id": "ce4bca28-3892-49db-9a9f-de085ff9faef",
   "metadata": {
    "colab": {
     "base_uri": "https://localhost:8080/",
     "height": 224
    },
    "id": "ce4bca28-3892-49db-9a9f-de085ff9faef",
    "outputId": "d2db096b-f902-421e-e833-71760a4c7952"
   },
   "outputs": [],
   "source": [
    "## remove the rows\n",
    "\n",
    "df = df[df['city'] >= 0].reset_index(drop=True)\\\n",
    "\n",
    "print('length of the rows:', len(df))\n",
    "df.head()"
   ]
  },
  {
   "cell_type": "code",
   "execution_count": null,
   "id": "551403a0-bbf2-42e0-ba5b-c7b7af6869ce",
   "metadata": {
    "id": "551403a0-bbf2-42e0-ba5b-c7b7af6869ce"
   },
   "outputs": [],
   "source": []
  },
  {
   "cell_type": "code",
   "execution_count": null,
   "id": "0e0d34fb-6b79-47a1-b4ec-47a8dfc5bcc1",
   "metadata": {
    "colab": {
     "base_uri": "https://localhost:8080/"
    },
    "id": "0e0d34fb-6b79-47a1-b4ec-47a8dfc5bcc1",
    "outputId": "142b5143-7ba5-4b0d-e025-85840569b942"
   },
   "outputs": [],
   "source": [
    "### Checking datatypes\n",
    "\n",
    "df.info()"
   ]
  },
  {
   "cell_type": "code",
   "execution_count": null,
   "id": "aabf4088-4cc6-4882-ae16-10f9894e7b13",
   "metadata": {
    "colab": {
     "base_uri": "https://localhost:8080/",
     "height": 206
    },
    "id": "aabf4088-4cc6-4882-ae16-10f9894e7b13",
    "outputId": "6b0f5baf-68a6-4016-aeea-496f2d966665"
   },
   "outputs": [],
   "source": [
    "### converting datatypes\n",
    "\n",
    "def convert_datatypes(df):\n",
    "\n",
    "    # Convert specific columns based on the suggested data types\n",
    "    specific_columns = {\n",
    "        'TARGET': 'str',\n",
    "        'loyalty': 'int64',\n",
    "        'ID': 'str',\n",
    "        'age': 'int64',\n",
    "        'city': 'str',\n",
    "        'LOR': 'int64',\n",
    "        'prod_A': 'str',\n",
    "        'type_A': 'str',\n",
    "       'type_B': 'str',\n",
    "        'prod_B': 'str',\n",
    "        'turnover_A': 'float64',\n",
    "        'turnover_B': 'float64',\n",
    "        'contract': 'str',\n",
    "        'age_P': 'int64',\n",
    "        'lor_M': 'int64',\n",
    "    }\n",
    "\n",
    "    for column, dtype in specific_columns.items():\n",
    "        if column in df.columns:\n",
    "            df[column] = df[column].astype(dtype)\n",
    "        else:\n",
    "            print('Error')\n",
    "\n",
    "    return df\n",
    "\n",
    "\n",
    "## calling function\n",
    "\n",
    "df = convert_datatypes(df)\n",
    "df.head()"
   ]
  },
  {
   "cell_type": "code",
   "execution_count": null,
   "id": "2689cc1d-396c-4d77-83ef-279cf7568224",
   "metadata": {
    "colab": {
     "base_uri": "https://localhost:8080/"
    },
    "id": "2689cc1d-396c-4d77-83ef-279cf7568224",
    "outputId": "50c48264-9906-4577-8827-07a201076b1e"
   },
   "outputs": [],
   "source": [
    "df.info()"
   ]
  },
  {
   "cell_type": "code",
   "execution_count": null,
   "id": "e9d61d0e-4378-4fc6-b057-79a78a0de9bc",
   "metadata": {
    "colab": {
     "base_uri": "https://localhost:8080/",
     "height": 300
    },
    "id": "e9d61d0e-4378-4fc6-b057-79a78a0de9bc",
    "outputId": "a7531f60-807f-43ab-8190-ee49f741fbef"
   },
   "outputs": [],
   "source": [
    "df.describe()"
   ]
  },
  {
   "cell_type": "markdown",
   "id": "aab26c85-375e-483b-a76e-21eec04a6043",
   "metadata": {
    "id": "aab26c85-375e-483b-a76e-21eec04a6043"
   },
   "source": [
    "There are no null values & changed the datatypes of the data frame"
   ]
  },
  {
   "cell_type": "markdown",
   "id": "b223cc75-84aa-42ae-816e-869e0f4fc447",
   "metadata": {
    "id": "b223cc75-84aa-42ae-816e-869e0f4fc447"
   },
   "source": [
    "## EDA"
   ]
  },
  {
   "cell_type": "code",
   "execution_count": null,
   "id": "60dd6a0d-1298-4490-9eea-76215341a79c",
   "metadata": {
    "id": "60dd6a0d-1298-4490-9eea-76215341a79c"
   },
   "outputs": [],
   "source": []
  },
  {
   "cell_type": "code",
   "execution_count": null,
   "id": "e5403b72-5ff4-41ba-aae9-13f4053c4e0b",
   "metadata": {
    "id": "e5403b72-5ff4-41ba-aae9-13f4053c4e0b"
   },
   "outputs": [],
   "source": [
    "## Sitation: Help from chatgpt\n",
    "###### Creating a function that gives univariate analysis on quantitative columns\n",
    "\n",
    "\n",
    "def Hist_BoxPlotFunction(df, pdf_filename):\n",
    "\n",
    "    # Path for saving the PDF in the current working directory\n",
    "    pdf_path = os.path.join(os.getcwd(), pdf_filename)\n",
    "\n",
    "    quantitative_columns = df.select_dtypes(include=['float64', 'int64','int32']).columns\n",
    "\n",
    "    with PdfPages(pdf_path) as pdf:\n",
    "        for col in quantitative_columns:\n",
    "            fig, axs = plt.subplots(1, 2, figsize=(12, 4))\n",
    "\n",
    "            # Histogram\n",
    "            sns.histplot(df[col], ax=axs[0], kde=True)\n",
    "            axs[0].set_title(f'Histogram of {col}')\n",
    "\n",
    "            # Box Plot\n",
    "            sns.boxplot(x=df[col], ax=axs[1])\n",
    "            axs[1].set_title(f'Box Plot of {col}')\n",
    "\n",
    "            plt.tight_layout()\n",
    "            pdf.savefig(fig)  # Save the figure into the PDF\n",
    "            plt.show()  # Display the plot\n",
    "            plt.close(fig)  # Close to free up memory"
   ]
  },
  {
   "cell_type": "code",
   "execution_count": null,
   "id": "ef27c71f-eceb-4b6d-ad05-d62300fac26b",
   "metadata": {
    "colab": {
     "base_uri": "https://localhost:8080/",
     "height": 1000
    },
    "id": "ef27c71f-eceb-4b6d-ad05-d62300fac26b",
    "outputId": "2a8e1066-66d8-4b78-b092-33ac75255159"
   },
   "outputs": [],
   "source": [
    "Hist_BoxPlotFunction(df, \"Quant_plots.pdf\")"
   ]
  },
  {
   "cell_type": "code",
   "execution_count": null,
   "id": "374b21f9-fc20-4fb9-91a9-3588fa1d4a62",
   "metadata": {
    "colab": {
     "base_uri": "https://localhost:8080/"
    },
    "id": "374b21f9-fc20-4fb9-91a9-3588fa1d4a62",
    "outputId": "ebb2a8c3-385d-42c0-b4a8-3ba19df8d131"
   },
   "outputs": [],
   "source": [
    "#### Creating age bins\n",
    "\n",
    "print(\"Age Min value: \",df['age'].min())\n",
    "print(\"Age Max value: \",df['age'].max())\n",
    "\n",
    "print(\"Age_P Min value: \",df['age_P'].min())\n",
    "print(\"Age_P Max value: \",df['age_P'].max())\n",
    "\n",
    "\n",
    "## Based on above min & max valuesm checking whether both columns has same values\n",
    "\n",
    "\n",
    "print(\"No of rows having different values: \" ,len(df[df['age'] != df['age_P']]))\n",
    "\n",
    "\n",
    "### so we can drop one column, I am droping age_P column, considering age column is more valid at the time of insurance.\n",
    "\n",
    "del df['age_P']"
   ]
  },
  {
   "cell_type": "code",
   "execution_count": null,
   "id": "5824cf61-6e08-47e7-b0d4-3198d9f217c0",
   "metadata": {
    "id": "5824cf61-6e08-47e7-b0d4-3198d9f217c0"
   },
   "outputs": [],
   "source": []
  },
  {
   "cell_type": "code",
   "execution_count": null,
   "id": "1810859b-7649-479d-bb81-842281f883a8",
   "metadata": {
    "colab": {
     "base_uri": "https://localhost:8080/",
     "height": 112
    },
    "id": "1810859b-7649-479d-bb81-842281f883a8",
    "outputId": "d3601eba-5d05-407d-8f9d-b93d51cca965"
   },
   "outputs": [],
   "source": [
    "######### Checking whether age & age_P columns are same\n",
    "\n",
    "def age_bins_func(df, col):\n",
    "\n",
    "    bins = [0, 20, 40, 60, 80, df[col].max()]\n",
    "    labels = ['0-20', '21-40', '41-60', '61-80', '80+']\n",
    "\n",
    "    df['age_bin'] = pd.cut(df['age'], bins, labels=labels)\n",
    "\n",
    "    return df\n",
    "\n",
    "\n",
    "df = age_bins_func(df, 'age')\n",
    "\n",
    "df.head(2)"
   ]
  },
  {
   "cell_type": "code",
   "execution_count": null,
   "id": "fb7b3ffe-7f4b-4250-87ad-60895f37ad66",
   "metadata": {
    "id": "fb7b3ffe-7f4b-4250-87ad-60895f37ad66"
   },
   "outputs": [],
   "source": []
  },
  {
   "cell_type": "code",
   "execution_count": null,
   "id": "172dbb8e-72e9-4d5f-b1bf-35dc0eaa7de7",
   "metadata": {
    "id": "172dbb8e-72e9-4d5f-b1bf-35dc0eaa7de7"
   },
   "outputs": [],
   "source": [
    "def plot_bar_chart(data: pd.DataFrame, column1: str, column2: str) -> None:\n",
    "\n",
    "    # Make a copy of the data to avoid changing the original dataframe\n",
    "    data_copy = data.copy()\n",
    "\n",
    "    # Check if the columns are boolean, if so convert them to strings\n",
    "    if data_copy[column1].dtype == 'bool':\n",
    "        data_copy[column1] = data_copy[column1].astype(str)\n",
    "\n",
    "    if data_copy[column2].dtype == 'bool':\n",
    "        data_copy[column2] = data_copy[column2].astype(str)\n",
    "\n",
    "    # Group the data by column1 and count unique values in column2\n",
    "    grouped_data = data_copy.groupby(column1)[column2].nunique().reset_index()\n",
    "\n",
    "    # Create the bar chart\n",
    "    plt.figure(figsize=(10, 6))\n",
    "    bars = plt.bar(grouped_data[column1], grouped_data[column2], color='skyblue')\n",
    "\n",
    "    # Add value labels on top of the bars\n",
    "    for bar, val in zip(bars, grouped_data[column2]):\n",
    "        plt.text(bar.get_x() + bar.get_width() / 2, val + 0.1, val, ha='center')  # Adjust vertical offset with `+ 0.1`\n",
    "\n",
    "    # Add labels and title\n",
    "    plt.xlabel(column1)\n",
    "    plt.ylabel(f'Unique count of {column2}')\n",
    "    plt.title(f'Bar Chart of Unique Counts of {column2} by {column1}')\n",
    "\n",
    "    # Rotate x-axis tick labels for readability\n",
    "    plt.xticks(rotation=45, ha='right')\n",
    "\n",
    "    # Adjust layout to prevent clipping of tick-labels\n",
    "    plt.tight_layout()\n",
    "\n",
    "    # Hide the plot\n",
    "    plt.show()\n"
   ]
  },
  {
   "cell_type": "code",
   "execution_count": null,
   "id": "b2e87f9e",
   "metadata": {
    "id": "b2e87f9e"
   },
   "outputs": [],
   "source": [
    "def plot_bar_chart_3_columns(data: pd.DataFrame, product_col: str, target_col: str, id_col: str) -> None:\n",
    "\n",
    "    # Make a copy of the data to avoid changing the original dataframe\n",
    "    data_copy = data.copy()\n",
    "\n",
    "    # Group data by product and target, then calculate the count of unique IDs\n",
    "    grouped_data = (\n",
    "        data_copy.groupby([product_col, target_col])[id_col].count().unstack().fillna(0)\n",
    "    )\n",
    "\n",
    "    # Create the bar chart\n",
    "    fig, ax = plt.subplots(figsize=(10, 6))\n",
    "    bars = grouped_data.plot(kind=\"bar\", colormap=\"tab20\", ax=ax)\n",
    "\n",
    "\n",
    "    # Add labels and title\n",
    "    plt.xlabel(f\"{product_col} and {target_col}\")\n",
    "    plt.ylabel(\"Count\")\n",
    "    plt.title(f\"Count of unique combinations of {product_col} and {target_col}\")\n",
    "\n",
    "    # Rotate x-axis tick labels for readability (optional)\n",
    "    # plt.xticks(rotation=45, ha='right')\n",
    "\n",
    "    # Adjust layout to prevent overlapping labels (optional)\n",
    "    plt.tight_layout()\n",
    "\n",
    "    # Show the plot\n",
    "    plt.show()\n"
   ]
  },
  {
   "cell_type": "code",
   "execution_count": null,
   "id": "720b8f6c-79af-48bc-9782-4abdf96590fc",
   "metadata": {
    "colab": {
     "base_uri": "https://localhost:8080/",
     "height": 607
    },
    "id": "720b8f6c-79af-48bc-9782-4abdf96590fc",
    "outputId": "ab20350c-d308-4e73-b0b8-881fb9c98ab7"
   },
   "outputs": [],
   "source": [
    "plot_bar_chart(df, 'TARGET','ID')"
   ]
  },
  {
   "cell_type": "markdown",
   "id": "325c7662",
   "metadata": {
    "id": "325c7662"
   },
   "source": [
    "This shows the dataset is imbalanced dataset"
   ]
  },
  {
   "cell_type": "markdown",
   "id": "181eef26",
   "metadata": {
    "id": "181eef26"
   },
   "source": [
    "# Age_bins"
   ]
  },
  {
   "cell_type": "code",
   "execution_count": null,
   "id": "8038c70d-4743-4933-b563-377f9d77d84b",
   "metadata": {
    "colab": {
     "base_uri": "https://localhost:8080/",
     "height": 607
    },
    "id": "8038c70d-4743-4933-b563-377f9d77d84b",
    "outputId": "43fbdf3f-f81c-4e9a-bd31-28d7037500ec"
   },
   "outputs": [],
   "source": [
    "plot_bar_chart(df, 'age_bin','ID')"
   ]
  },
  {
   "cell_type": "code",
   "execution_count": null,
   "id": "35aaa287-9f7a-49c9-8df2-08005c273b0b",
   "metadata": {
    "colab": {
     "base_uri": "https://localhost:8080/"
    },
    "id": "35aaa287-9f7a-49c9-8df2-08005c273b0b",
    "outputId": "607e1161-1c97-495e-a6a2-21971ee31667"
   },
   "outputs": [],
   "source": [
    "## want to check which age is been most repeated\n",
    "\n",
    "df[df['age_bin'] == '21-40']['age'].value_counts()"
   ]
  },
  {
   "cell_type": "markdown",
   "id": "96a9c620-3ff0-40f4-bd0e-791b8a5c4674",
   "metadata": {
    "id": "96a9c620-3ff0-40f4-bd0e-791b8a5c4674"
   },
   "source": [
    "### so most of our customers are from young to middle age customers"
   ]
  },
  {
   "cell_type": "code",
   "execution_count": null,
   "id": "32daa83b-778d-4dd2-ab25-111b9349d2d2",
   "metadata": {
    "colab": {
     "base_uri": "https://localhost:8080/",
     "height": 607
    },
    "id": "32daa83b-778d-4dd2-ab25-111b9349d2d2",
    "outputId": "d9aecd7e-70af-49ee-e8cc-d4784745e9a8"
   },
   "outputs": [],
   "source": [
    "plot_bar_chart_3_columns(df, 'age_bin','prod_A','ID')"
   ]
  },
  {
   "cell_type": "code",
   "execution_count": null,
   "id": "cc795111",
   "metadata": {
    "colab": {
     "base_uri": "https://localhost:8080/",
     "height": 607
    },
    "id": "cc795111",
    "outputId": "d3d59b8e-40ef-4430-d793-23e36c60ccc1"
   },
   "outputs": [],
   "source": [
    "plot_bar_chart_3_columns(df, 'age_bin','prod_B','ID')"
   ]
  },
  {
   "cell_type": "markdown",
   "id": "55cd21b2",
   "metadata": {
    "id": "55cd21b2"
   },
   "source": [
    "# loyalty"
   ]
  },
  {
   "cell_type": "code",
   "execution_count": null,
   "id": "2678dfef-b15c-4e7a-a19c-ab442b5c9902",
   "metadata": {
    "colab": {
     "base_uri": "https://localhost:8080/"
    },
    "id": "2678dfef-b15c-4e7a-a19c-ab442b5c9902",
    "outputId": "b114781d-d240-4f51-8fc3-0d7492055a98"
   },
   "outputs": [],
   "source": [
    "df['loyalty'].value_counts()"
   ]
  },
  {
   "cell_type": "code",
   "execution_count": null,
   "id": "c5db1e0d-47f0-4edf-9b51-e04a03d467a2",
   "metadata": {
    "colab": {
     "base_uri": "https://localhost:8080/",
     "height": 607
    },
    "id": "c5db1e0d-47f0-4edf-9b51-e04a03d467a2",
    "outputId": "b6909ce0-c0c2-4581-880e-58dbc4118b60"
   },
   "outputs": [],
   "source": [
    "plot_bar_chart_3_columns(df, 'prod_A', 'loyalty', 'ID')"
   ]
  },
  {
   "cell_type": "code",
   "execution_count": null,
   "id": "43f1e674",
   "metadata": {
    "colab": {
     "base_uri": "https://localhost:8080/",
     "height": 607
    },
    "id": "43f1e674",
    "outputId": "f09646f2-5ed5-41f5-88fe-00bb572af7c6"
   },
   "outputs": [],
   "source": [
    "plot_bar_chart_3_columns(df, 'prod_B', 'loyalty', 'ID')"
   ]
  },
  {
   "cell_type": "markdown",
   "id": "b11007df",
   "metadata": {
    "id": "b11007df"
   },
   "source": [
    "### Most of loyality unclassified (99) is given by non-purchased customers"
   ]
  },
  {
   "cell_type": "code",
   "execution_count": null,
   "id": "2a7c5e4f",
   "metadata": {
    "colab": {
     "base_uri": "https://localhost:8080/",
     "height": 607
    },
    "id": "2a7c5e4f",
    "outputId": "5b4dc7cd-ac1b-482f-9991-da3b816e8651"
   },
   "outputs": [],
   "source": [
    "plot_bar_chart_3_columns(df[df['loyalty'] != 99], 'prod_A', 'loyalty', 'ID')"
   ]
  },
  {
   "cell_type": "code",
   "execution_count": null,
   "id": "f25e83b5",
   "metadata": {
    "colab": {
     "base_uri": "https://localhost:8080/",
     "height": 607
    },
    "id": "f25e83b5",
    "outputId": "a8d7395e-8e6c-4b7d-c37d-f733b1b1f716"
   },
   "outputs": [],
   "source": [
    "plot_bar_chart_3_columns(df[df['loyalty'] != 99], 'prod_B', 'loyalty', 'ID')"
   ]
  },
  {
   "cell_type": "markdown",
   "id": "da4b0a09",
   "metadata": {
    "id": "da4b0a09"
   },
   "source": [
    "From the above product comparision, more customers have brought product B & having mostly same loyalty on purchased both products"
   ]
  },
  {
   "cell_type": "code",
   "execution_count": null,
   "id": "9a6a8699",
   "metadata": {
    "id": "9a6a8699"
   },
   "outputs": [],
   "source": []
  },
  {
   "cell_type": "markdown",
   "id": "5a189e47",
   "metadata": {
    "id": "5a189e47"
   },
   "source": [
    "# Product"
   ]
  },
  {
   "cell_type": "code",
   "execution_count": null,
   "id": "0f412862",
   "metadata": {
    "colab": {
     "base_uri": "https://localhost:8080/",
     "height": 607
    },
    "id": "0f412862",
    "outputId": "34af8501-0ac0-4056-a2da-98c9c1a7b7cb"
   },
   "outputs": [],
   "source": [
    "plot_bar_chart_3_columns(df, 'prod_A', 'type_A', 'ID')"
   ]
  },
  {
   "cell_type": "code",
   "execution_count": null,
   "id": "8b3010f5",
   "metadata": {
    "colab": {
     "base_uri": "https://localhost:8080/",
     "height": 607
    },
    "id": "8b3010f5",
    "outputId": "c90623eb-cfc7-4337-fa52-f5313222228c"
   },
   "outputs": [],
   "source": [
    "plot_bar_chart_3_columns(df, 'prod_B', 'type_B', 'ID')"
   ]
  },
  {
   "cell_type": "markdown",
   "id": "c8f26462",
   "metadata": {
    "id": "c8f26462"
   },
   "source": [
    "Based on comparing the Product & its types, it clearly says in both products Type 0 is most unsold, & type 3 is most bought product type"
   ]
  },
  {
   "cell_type": "markdown",
   "id": "c4032813",
   "metadata": {
    "id": "c4032813"
   },
   "source": [
    "# LOR_M"
   ]
  },
  {
   "cell_type": "code",
   "execution_count": null,
   "id": "8ff95978",
   "metadata": {
    "colab": {
     "base_uri": "https://localhost:8080/"
    },
    "id": "8ff95978",
    "outputId": "ddd36d77-f20e-4f7f-ffd5-0a9dfe54f3c5"
   },
   "outputs": [],
   "source": [
    "df.groupby(['prod_A','lor_M'])['ID'].nunique()"
   ]
  },
  {
   "cell_type": "code",
   "execution_count": null,
   "id": "b85b3bb3",
   "metadata": {
    "colab": {
     "base_uri": "https://localhost:8080/"
    },
    "id": "b85b3bb3",
    "outputId": "766ff12b-e743-4228-a14b-7e5c92b5b407"
   },
   "outputs": [],
   "source": [
    "df.groupby(['prod_B','lor_M'])['ID'].nunique()"
   ]
  },
  {
   "cell_type": "markdown",
   "id": "dd78ce6f",
   "metadata": {
    "id": "dd78ce6f"
   },
   "source": [
    "Clearly shows that lor_M 15 & 27 months are customers who bought more.\n",
    "\n",
    "3 months LOR_M are not bought."
   ]
  },
  {
   "cell_type": "code",
   "execution_count": null,
   "id": "8dbe427c",
   "metadata": {
    "id": "8dbe427c"
   },
   "outputs": [],
   "source": []
  },
  {
   "cell_type": "markdown",
   "id": "87e3aa90",
   "metadata": {
    "id": "87e3aa90"
   },
   "source": [
    "# Feature selection"
   ]
  },
  {
   "cell_type": "code",
   "execution_count": null,
   "id": "c40aa34c",
   "metadata": {
    "colab": {
     "base_uri": "https://localhost:8080/"
    },
    "id": "c40aa34c",
    "outputId": "e3c5c707-9881-4127-f88f-981762cf9276"
   },
   "outputs": [],
   "source": [
    "df.info()"
   ]
  },
  {
   "cell_type": "code",
   "execution_count": null,
   "id": "00c39950",
   "metadata": {
    "id": "00c39950"
   },
   "outputs": [],
   "source": [
    "### copy the dataframe\n",
    "\n",
    "df_copy = df.copy(deep=True)\n",
    "del df_copy['age_bin']\n",
    "del df_copy['contract']"
   ]
  },
  {
   "cell_type": "code",
   "execution_count": null,
   "id": "fa5534dc",
   "metadata": {
    "colab": {
     "base_uri": "https://localhost:8080/"
    },
    "id": "fa5534dc",
    "outputId": "788450b0-1b39-4534-d766-d8be8d39bcfb"
   },
   "outputs": [],
   "source": [
    "df_copy['TARGET'] = df_copy['TARGET'].astype(int)\n",
    "df_copy['loyalty'] = df_copy['loyalty'].astype(int)\n",
    "df_copy['ID'] = df_copy['ID'].astype(int)\n",
    "df_copy['age'] = df_copy['age'].astype(int)\n",
    "df_copy['city'] = df_copy['city'].astype(int)\n",
    "df_copy['LOR'] = df_copy['LOR'].astype(int)\n",
    "df_copy['prod_A'] = df_copy['prod_A'].astype(int)\n",
    "df_copy['prod_B'] = df_copy['prod_B'].astype(int)\n",
    "df_copy['type_A'] = df_copy['type_A'].astype(int)\n",
    "df_copy['type_B'] = df_copy['type_B'].astype(int)\n",
    "df_copy['turnover_A'] = df_copy['turnover_A'].astype(int)\n",
    "df_copy['turnover_B'] = df_copy['turnover_B'].astype(int)\n",
    "df_copy['lor_M'] = df_copy['lor_M'].astype(int)\n",
    "\n",
    "df_copy.info()"
   ]
  },
  {
   "cell_type": "code",
   "execution_count": null,
   "id": "6q3M323J9q57",
   "metadata": {
    "id": "6q3M323J9q57"
   },
   "outputs": [],
   "source": []
  },
  {
   "cell_type": "code",
   "execution_count": null,
   "id": "8ec43af3",
   "metadata": {
    "colab": {
     "base_uri": "https://localhost:8080/",
     "height": 761
    },
    "id": "8ec43af3",
    "outputId": "c6928a4e-85d7-44fc-b438-c9956c1ad30f"
   },
   "outputs": [],
   "source": [
    "### Correlation Plot\n",
    "\n",
    "cm = df_copy.corr()\n",
    "plt.figure(figsize=(12, 8))\n",
    "sns.heatmap(cm, annot=True, cmap='coolwarm')"
   ]
  },
  {
   "cell_type": "markdown",
   "id": "UoLq5ElxC8Tz",
   "metadata": {
    "id": "UoLq5ElxC8Tz"
   },
   "source": [
    "Based on the correlation matrix and considering the above EDA, planning to use\n",
    "\n",
    "**Model 1: Demographic and Customer Relationship Features**\n",
    "\n",
    "Age: Customer's age might affect the likelihood of purchasing additional\n",
    "products.\n",
    "\n",
    "LOR (Length of Relationship): The length of time the customer has been with the company could impact their loyalty and their openness to purchasing additional products.\n",
    "\n",
    "Loyalty: A loyalty score that might directly relate to the likelihood of purchasing more products.\n",
    "\n",
    "Model 2: Current Product Engagement Features\n",
    "**bold text**\n",
    "\n",
    "Prod_A (Whether they bought Product A): This could indicate a willingness to purchase additional products.\n",
    "\n",
    "Turnover_A (Amount spent on Product A): The amount spent might show the level of engagement with the company's products.\n",
    "\n",
    "Prod_B and Turnover_B: Similar to Product A, these variables could indicate a willingness to purchase additional products and the level of engagement with the current products.\n",
    "\n",
    "**Model 3: Combined Features**\n",
    "\n",
    "A combination of demographic and product engagement features, for instance:\n",
    "\n",
    "Age\n",
    "\n",
    "Loyalty\n",
    "\n",
    "Prod_A or Prod_B (choosing one to avoid multicollinearity with Turnover)\n",
    "Turnover_A or Turnover_B (as an indicator of monetary engagement with the products)"
   ]
  },
  {
   "cell_type": "code",
   "execution_count": null,
   "id": "JO5CGQ2bbx99",
   "metadata": {
    "id": "JO5CGQ2bbx99"
   },
   "outputs": [],
   "source": []
  },
  {
   "cell_type": "markdown",
   "id": "wORh3jL9crHi",
   "metadata": {
    "id": "wORh3jL9crHi"
   },
   "source": [
    "# **Prepped Data Review**\n"
   ]
  },
  {
   "cell_type": "code",
   "execution_count": null,
   "id": "IetayG6ubyYR",
   "metadata": {
    "colab": {
     "base_uri": "https://localhost:8080/",
     "height": 300
    },
    "id": "IetayG6ubyYR",
    "outputId": "3ae93e48-361e-4562-be28-5346cdb04eec"
   },
   "outputs": [],
   "source": [
    "df_copy.describe()"
   ]
  },
  {
   "cell_type": "markdown",
   "id": "kc3YC2OJcBC0",
   "metadata": {
    "id": "kc3YC2OJcBC0"
   },
   "source": [
    "Comparing the previous data we have removed the city (-9999) data and we have used age-bins for EDA and removed it before modelling, we have removed contract column as it has only 1 value before modelling"
   ]
  },
  {
   "cell_type": "markdown",
   "id": "HswdetlJbJ8d",
   "metadata": {
    "id": "HswdetlJbJ8d"
   },
   "source": [
    "# **Modelling**"
   ]
  },
  {
   "cell_type": "code",
   "execution_count": null,
   "id": "d56c70de",
   "metadata": {
    "colab": {
     "base_uri": "https://localhost:8080/"
    },
    "id": "d56c70de",
    "outputId": "7b8f936f-fc9b-4aeb-d172-b72dcca38094"
   },
   "outputs": [],
   "source": [
    "df_copy['TARGET'].value_counts()"
   ]
  },
  {
   "cell_type": "markdown",
   "id": "JL5fjyKNaPfg",
   "metadata": {
    "id": "JL5fjyKNaPfg"
   },
   "source": [
    "As our dataset is imbalanced we are using a concept of weighted class in fitting the model."
   ]
  },
  {
   "cell_type": "markdown",
   "id": "fSrGOtwIC3KX",
   "metadata": {
    "id": "fSrGOtwIC3KX"
   },
   "source": []
  },
  {
   "cell_type": "code",
   "execution_count": null,
   "id": "n_c3cRtmC1QK",
   "metadata": {
    "id": "n_c3cRtmC1QK"
   },
   "outputs": [],
   "source": [
    "# Adjusting the run_logistic_regression function to handle class imbalance by adding class_weight='balanced'\n",
    "\n",
    "def run_logistic_regression_balanced(df ,features, target='TARGET'):\n",
    "    # 1. Train Test split\n",
    "    X_train, X_test, y_train, y_test = train_test_split(df[features], df[target], test_size=0.3, random_state=42)\n",
    "\n",
    "    # 2. Normalize the data\n",
    "    scaler = StandardScaler()\n",
    "    X_train_scaled = scaler.fit_transform(X_train)\n",
    "    X_test_scaled = scaler.transform(X_test)\n",
    "\n",
    "    # 3. Fit the model with class_weight='balanced'\n",
    "    model = LogisticRegression(random_state=42, class_weight='balanced')\n",
    "    model.fit(X_train_scaled, y_train)\n",
    "\n",
    "    # Predictions\n",
    "    y_pred = model.predict(X_test_scaled)\n",
    "\n",
    "    # 4. Return the metrics\n",
    "    metrics = {\n",
    "        'accuracy': accuracy_score(y_test, y_pred),\n",
    "        'precision': precision_score(y_test, y_pred),\n",
    "        'recall': recall_score(y_test, y_pred),\n",
    "        'f1': f1_score(y_test, y_pred),\n",
    "        'roc_auc': roc_auc_score(y_test, model.predict_proba(X_test_scaled)[:, 1])\n",
    "    }\n",
    "\n",
    "    return metrics\n",
    "\n"
   ]
  },
  {
   "cell_type": "code",
   "execution_count": null,
   "id": "FIqUaitHVz5T",
   "metadata": {
    "colab": {
     "base_uri": "https://localhost:8080/",
     "height": 112
    },
    "id": "FIqUaitHVz5T",
    "outputId": "9ca10aba-cbe4-42e4-8c40-8ee5a6a12f3c"
   },
   "outputs": [],
   "source": [
    "df_copy.head(2)"
   ]
  },
  {
   "cell_type": "code",
   "execution_count": null,
   "id": "v6FFngOPPUi-",
   "metadata": {
    "id": "v6FFngOPPUi-"
   },
   "outputs": [],
   "source": [
    "# Define a function that compares the three models with balanced class weights and picks the best one based on a given metric\n",
    "def compare_models_balanced(df, metric='roc_auc'):\n",
    "\n",
    "  features_set_1 = ['age','loyalty', 'lor_M']\n",
    "  features_set_2 = ['prod_A','prod_B', 'turnover_A','turnover_B']\n",
    "  features_set_3 = ['prod_A','prod_B', 'age','loyalty']\n",
    "\n",
    "\n",
    "  metrics_1 = run_logistic_regression_balanced(df, features_set_1)\n",
    "  metrics_2 = run_logistic_regression_balanced(df,features_set_2)\n",
    "  metrics_3 = run_logistic_regression_balanced(df,features_set_3)\n",
    "\n",
    "  print(\"Model 1\\t\")\n",
    "  print(\"Features: \",features_set_1)\n",
    "  print(\"Metrics: \",metrics_1[metric])\n",
    "\n",
    "  print(\"Model 2\\t\")\n",
    "  print(\"Features: \",features_set_2)\n",
    "  print(\"Metrics: \",metrics_2[metric])\n",
    "\n",
    "  print(\"Model 3\\t\")\n",
    "  print(\"Features: \",features_set_3)\n",
    "  print(\"Metrics: \",metrics_3[metric])\n",
    "\n",
    "\n",
    "  # Compare the models based on the specified metric\n",
    "  best_metrics = max(metrics_1[metric], metrics_2[metric], metrics_3[metric])\n",
    "\n",
    "  if best_metrics == metrics_1[metric]:\n",
    "      best_model = 'Model 1'\n",
    "      best_features = features_set_1\n",
    "  elif best_metrics == metrics_2[metric]:\n",
    "      best_model = 'Model 2'\n",
    "      best_features = features_set_2\n",
    "  else:\n",
    "      best_model = 'Model 3'\n",
    "      best_features = features_set_3\n",
    "\n",
    "\n",
    "  print(\"\\nBest Model \\t\")\n",
    "  print(best_model)\n",
    "  print(\"Features: \",best_features)\n",
    "  print(\"Metrics: \",best_metrics)\n",
    "\n",
    "\n",
    "  return best_model, best_features, best_metrics\n"
   ]
  },
  {
   "cell_type": "markdown",
   "id": "1rtNKxbgbU4F",
   "metadata": {
    "id": "1rtNKxbgbU4F"
   },
   "source": []
  },
  {
   "cell_type": "markdown",
   "id": "kwqRqW9KbWQO",
   "metadata": {
    "id": "kwqRqW9KbWQO"
   },
   "source": [
    "# **Model Selection**"
   ]
  },
  {
   "cell_type": "code",
   "execution_count": null,
   "id": "U8uuCJIwPRk0",
   "metadata": {
    "colab": {
     "base_uri": "https://localhost:8080/"
    },
    "id": "U8uuCJIwPRk0",
    "outputId": "d5acc792-0b59-4ed0-8ee7-6aaa11dc5667"
   },
   "outputs": [],
   "source": [
    "\n",
    "# Run the comparison of models with balanced class weights\n",
    "best_model_balanced, best_features_balanced, best_metrics_balanced = compare_models_balanced(df_copy)"
   ]
  },
  {
   "cell_type": "markdown",
   "id": "Pa_hA8jJf_SQ",
   "metadata": {
    "id": "Pa_hA8jJf_SQ"
   },
   "source": [
    "Based on comparing the 3 models we picked the model 2, considering the best roc_auc score."
   ]
  },
  {
   "cell_type": "markdown",
   "id": "P9az2FQKc9KA",
   "metadata": {
    "id": "P9az2FQKc9KA"
   },
   "source": [
    "# Conclusion\n",
    "\n",
    "In conclusion, we have successfully prepared a model for the data science assignment. We started by cleaning the data and removing duplicates, followed by performing exploratory data analysis (EDA) and feature selection. We built three logistic regression models, each focusing on different sets of categories: demographic, product purchase, and a combination of both. After comparing the metrics of the three models using the ROC-AUC metric, we selected the best model, which is model 2. This model showed the highest performance based on our evaluation criteria."
   ]
  }
 ],
 "metadata": {
  "colab": {
   "provenance": []
  },
  "kernelspec": {
   "display_name": "Python 3 (ipykernel)",
   "language": "python",
   "name": "python3"
  },
  "language_info": {
   "codemirror_mode": {
    "name": "ipython",
    "version": 3
   },
   "file_extension": ".py",
   "mimetype": "text/x-python",
   "name": "python",
   "nbconvert_exporter": "python",
   "pygments_lexer": "ipython3",
   "version": "3.9.16"
  }
 },
 "nbformat": 4,
 "nbformat_minor": 5
}
