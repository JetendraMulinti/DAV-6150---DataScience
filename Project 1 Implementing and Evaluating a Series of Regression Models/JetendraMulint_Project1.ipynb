{
 "cells": [
  {
   "cell_type": "markdown",
   "id": "610a22ea",
   "metadata": {},
   "source": [
    "# Introduction: We are trying create a 6 models & pick a model which predicts the dropout_cnt.\n",
    "\n",
    "Steps we are following\n",
    "1. Loading data\n",
    "2. Cleaning data\n",
    "3. EDA\n",
    "4. Feature selection\n",
    "5. Normalizing the data\n",
    "6. Train the model with 6 Models\n",
    "7. Validating Metrics.\n",
    "8. Selecting Models\n",
    "9. Conclusion"
   ]
  },
  {
   "cell_type": "code",
   "execution_count": 2,
   "id": "c49f4cef",
   "metadata": {},
   "outputs": [],
   "source": [
    "### Import packages\n",
    "\n",
    "import warnings\n",
    "warnings.filterwarnings('ignore')\n",
    "import pandas as pd\n",
    "pd.options.display.max_columns = 999\n",
    "import numpy as np\n",
    "import matplotlib.pyplot as plt\n",
    "from matplotlib.backends.backend_pdf import PdfPages\n",
    "import seaborn as sns\n",
    "import os\n",
    "\n",
    "### sklearn\n",
    "from sklearn.model_selection import train_test_split\n",
    "from sklearn.metrics import mean_squared_error, r2_score,mean_absolute_error\n",
    "\n",
    "###### Standardization of the variables\n",
    "from sklearn.preprocessing import StandardScaler\n",
    "scaler = StandardScaler()\n",
    "\n",
    "#### Modelling\n",
    "from sklearn.linear_model import LinearRegression\n",
    "from sklearn.linear_model import Ridge\n",
    "from sklearn.model_selection import cross_val_score, KFold"
   ]
  },
  {
   "cell_type": "code",
   "execution_count": null,
   "id": "dbb77d2d",
   "metadata": {},
   "outputs": [],
   "source": []
  }
 ],
 "metadata": {
  "kernelspec": {
   "display_name": "Python 3 (ipykernel)",
   "language": "python",
   "name": "python3"
  },
  "language_info": {
   "codemirror_mode": {
    "name": "ipython",
    "version": 3
   },
   "file_extension": ".py",
   "mimetype": "text/x-python",
   "name": "python",
   "nbconvert_exporter": "python",
   "pygments_lexer": "ipython3",
   "version": "3.9.16"
  }
 },
 "nbformat": 4,
 "nbformat_minor": 5
}
