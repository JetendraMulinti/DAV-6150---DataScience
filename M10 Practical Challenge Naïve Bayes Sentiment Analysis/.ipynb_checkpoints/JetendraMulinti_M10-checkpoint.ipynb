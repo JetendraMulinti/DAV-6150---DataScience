{
 "cells": [
  {
   "cell_type": "code",
   "execution_count": 2,
   "id": "c0d08726-03ca-4712-9f69-23fd7168e039",
   "metadata": {},
   "outputs": [
    {
     "ename": "NameError",
     "evalue": "name 'nltk' is not defined",
     "output_type": "error",
     "traceback": [
      "\u001b[1;31m---------------------------------------------------------------------------\u001b[0m",
      "\u001b[1;31mNameError\u001b[0m                                 Traceback (most recent call last)",
      "Cell \u001b[1;32mIn[2], line 2\u001b[0m\n\u001b[0;32m      1\u001b[0m \u001b[38;5;66;03m# Download the list of stopwords from NLTK\u001b[39;00m\n\u001b[1;32m----> 2\u001b[0m \u001b[43mnltk\u001b[49m\u001b[38;5;241m.\u001b[39mdownload(\u001b[38;5;124m'\u001b[39m\u001b[38;5;124mpunkt\u001b[39m\u001b[38;5;124m'\u001b[39m)\n\u001b[0;32m      3\u001b[0m nltk\u001b[38;5;241m.\u001b[39mdownload(\u001b[38;5;124m'\u001b[39m\u001b[38;5;124mstopwords\u001b[39m\u001b[38;5;124m'\u001b[39m)\n",
      "\u001b[1;31mNameError\u001b[0m: name 'nltk' is not defined"
     ]
    }
   ],
   "source": []
  },
  {
   "cell_type": "code",
   "execution_count": 3,
   "id": "c783915e-9443-4830-a142-e34acf6aca55",
   "metadata": {},
   "outputs": [],
   "source": [
    "import os\n",
    "import re\n",
    "from sklearn.feature_extraction.text import CountVectorizer\n",
    "from nltk.corpus import stopwords\n",
    "from nltk.tokenize import word_tokenize\n",
    "import nltk"
   ]
  },
  {
   "cell_type": "code",
   "execution_count": 4,
   "id": "84eb458f-f413-44c6-95a4-40db76e0dc0d",
   "metadata": {},
   "outputs": [
    {
     "name": "stderr",
     "output_type": "stream",
     "text": [
      "[nltk_data] Downloading package punkt to\n",
      "[nltk_data]     C:\\Users\\JETENDRA\\AppData\\Roaming\\nltk_data...\n",
      "[nltk_data]   Package punkt is already up-to-date!\n",
      "[nltk_data] Downloading package stopwords to\n",
      "[nltk_data]     C:\\Users\\JETENDRA\\AppData\\Roaming\\nltk_data...\n",
      "[nltk_data]   Package stopwords is already up-to-date!\n"
     ]
    },
    {
     "data": {
      "text/plain": [
       "True"
      ]
     },
     "execution_count": 4,
     "metadata": {},
     "output_type": "execute_result"
    }
   ],
   "source": [
    "# Download the list of stopwords from NLTK\n",
    "nltk.download('punkt')\n",
    "nltk.download('stopwords')"
   ]
  },
  {
   "cell_type": "code",
   "execution_count": null,
   "id": "a3d6b207-7ea8-4658-8d68-8c2a0ae083d7",
   "metadata": {},
   "outputs": [],
   "source": []
  },
  {
   "cell_type": "code",
   "execution_count": null,
   "id": "f5484404-595d-489f-b535-1ce74752dfe0",
   "metadata": {},
   "outputs": [],
   "source": [
    "def read_and_preprocess(directory):\n",
    "    \"\"\"\n",
    "    Reads all text files from the given directory, preprocesses them by removing punctuation\n",
    "    and stopwords, and returns a list of cleaned reviews.\n",
    "    \"\"\"\n",
    "    reviews = []\n",
    "    files = os.listdir(directory)\n",
    "    for file in files:\n",
    "        if file.endswith(\".txt\"):\n",
    "            with open(os.path.join(directory, file), 'r', encoding='utf-8') as f:\n",
    "                content = f.read().lower()\n",
    "                content = re.sub(r'\\b\\w{1,2}\\b', '', content) # Remove short words\n",
    "                content = re.sub(r'[^\\w\\s]', '', content) # Remove punctuation\n",
    "                word_tokens = word_tokenize(content) # Tokenize\n",
    "                filtered_sentence = [w for w in word_tokens if not w in stopwords.words('english')] # Remove stopwords\n",
    "                reviews.append(\" \".join(filtered_sentence))\n",
    "    return reviews"
   ]
  },
  {
   "cell_type": "code",
   "execution_count": null,
   "id": "24d8f0be-48d9-4f62-a3b7-0dfe1e4c34da",
   "metadata": {},
   "outputs": [],
   "source": [
    "def construct_term_document_matrix(pos_reviews, neg_reviews):\n",
    "    \"\"\"\n",
    "    Constructs a term-document matrix from positive and negative reviews.\n",
    "    Each entry is labeled according to its sentiment.\n",
    "    \"\"\"\n",
    "    vectorizer = CountVectorizer()\n",
    "    all_reviews = pos_reviews + neg_reviews\n",
    "    labels = ['POS'] * len(pos_reviews) + ['NEG'] * len(neg_reviews)\n",
    "    term_document_matrix = vectorizer.fit_transform(all_reviews)\n",
    "    return term_document_matrix, labels, vectorizer.get_feature_names_out()"
   ]
  },
  {
   "cell_type": "code",
   "execution_count": null,
   "id": "a512d5e3-1e82-4eb4-9f4d-5e465173d0fa",
   "metadata": {},
   "outputs": [],
   "source": [
    "\n",
    "pos_reviews_url = ''\n",
    "neg_reviews_url = ''\n",
    "\n",
    "pos_reviews = read_and_preprocess('/path/to/Pos') # Update this path\n",
    "neg_reviews = read_and_preprocess('/path/to/Neg') # Update this path"
   ]
  },
  {
   "cell_type": "code",
   "execution_count": null,
   "id": "e46f2caa-d168-4756-bc74-ad2cc351c352",
   "metadata": {},
   "outputs": [],
   "source": [
    "term_document_matrix, labels, features = construct_term_document_matrix(pos_reviews, neg_reviews)"
   ]
  },
  {
   "cell_type": "code",
   "execution_count": null,
   "id": "d6648ab7-b026-4017-8193-7f17ca01ad31",
   "metadata": {},
   "outputs": [],
   "source": [
    "print(\"Term-document matrix shape:\", term_document_matrix.shape)\n",
    "print(\"First 10 feature names:\", features[:10])"
   ]
  }
 ],
 "metadata": {
  "kernelspec": {
   "display_name": "Python 3 (ipykernel)",
   "language": "python",
   "name": "python3"
  },
  "language_info": {
   "codemirror_mode": {
    "name": "ipython",
    "version": 3
   },
   "file_extension": ".py",
   "mimetype": "text/x-python",
   "name": "python",
   "nbconvert_exporter": "python",
   "pygments_lexer": "ipython3",
   "version": "3.9.16"
  }
 },
 "nbformat": 4,
 "nbformat_minor": 5
}
