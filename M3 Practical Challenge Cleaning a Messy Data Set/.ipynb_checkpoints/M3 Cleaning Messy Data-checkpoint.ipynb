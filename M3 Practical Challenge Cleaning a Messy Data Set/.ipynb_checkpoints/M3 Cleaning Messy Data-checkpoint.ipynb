{
 "cells": [
  {
   "cell_type": "markdown",
   "id": "37cb60da",
   "metadata": {},
   "source": [
    "# Team Members:\n",
    "\n",
    "Jetendra Mulinti,\n",
    "Goutham Vemula, \n",
    "Prajeeth Nakka"
   ]
  },
  {
   "cell_type": "code",
   "execution_count": 2,
   "id": "0cf6fdc0",
   "metadata": {},
   "outputs": [],
   "source": [
    "### Import packages\n",
    "\n",
    "import warnings\n",
    "warnings.filterwarnings('ignore')\n",
    "import pandas as pd\n",
    "pd.options.display.max_columns = 999\n",
    "import numpy as np\n",
    "import matplotlib.pyplot as plt\n",
    "from matplotlib.backends.backend_pdf import PdfPages\n",
    "import seaborn as sns\n",
    "import os\n"
   ]
  },
  {
   "cell_type": "code",
   "execution_count": null,
   "id": "327621c9",
   "metadata": {},
   "outputs": [],
   "source": [
    "### load data from csv via github url\n",
    "\n",
    "\n",
    "\n",
    "github_url = ''\n",
    "\n",
    "wine_df = pd.read_csv(github_url)\n",
    "wine_df.head(2)"
   ]
  }
 ],
 "metadata": {
  "kernelspec": {
   "display_name": "Python 3 (ipykernel)",
   "language": "python",
   "name": "python3"
  },
  "language_info": {
   "codemirror_mode": {
    "name": "ipython",
    "version": 3
   },
   "file_extension": ".py",
   "mimetype": "text/x-python",
   "name": "python",
   "nbconvert_exporter": "python",
   "pygments_lexer": "ipython3",
   "version": "3.9.16"
  }
 },
 "nbformat": 4,
 "nbformat_minor": 5
}
