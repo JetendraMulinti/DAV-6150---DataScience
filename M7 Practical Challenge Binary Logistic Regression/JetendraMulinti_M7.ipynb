{
 "cells": [
  {
   "cell_type": "markdown",
   "id": "3a7d33bc-e50a-4367-8e8e-3a8644cec997",
   "metadata": {},
   "source": [
    "# Team Members:\n",
    "\n",
    "Jetendra Mulinti, Goutham Vemula, Prajeeth Nakka"
   ]
  },
  {
   "cell_type": "markdown",
   "id": "f2851af4-f77e-4e28-ae91-eaf0e09795cd",
   "metadata": {},
   "source": [
    "# Introduction: We are building a model, which predicts whether the customer buys a new product or not by using atleast 3 bionomial logistic regressions.\n",
    "\n",
    "Steps we are following\n",
    "1. Loading data\n",
    "2. Cleaning data\n",
    "3. EDA\n",
    "4. Feature selection\n",
    "5. Train the model with 6 Models\n",
    "6. Validating Metrics.\n",
    "7. Selecting Models\n",
    "8. Conclusion"
   ]
  },
  {
   "cell_type": "code",
   "execution_count": 1,
   "id": "920e8c1c-8d21-41a4-b7f8-a7ef513bed06",
   "metadata": {},
   "outputs": [],
   "source": [
    "### Import packages\n",
    "\n",
    "import warnings\n",
    "warnings.filterwarnings('ignore')\n",
    "import pandas as pd\n",
    "pd.options.display.max_columns = 999\n",
    "import numpy as np\n",
    "import matplotlib.pyplot as plt\n",
    "from matplotlib.backends.backend_pdf import PdfPages\n",
    "import seaborn as sns\n",
    "import os\n",
    "from datetime import datetime\n",
    "\n",
    "### sklearn\n",
    "from sklearn.model_selection import train_test_split\n",
    "from sklearn.metrics import mean_squared_error, r2_score,mean_absolute_error\n",
    "\n",
    "###### Standardization of the variables\n",
    "from sklearn.preprocessing import StandardScaler\n",
    "scaler = StandardScaler()\n",
    "\n",
    "#### Modelling\n",
    "from sklearn.linear_model import LinearRegression\n",
    "from sklearn.linear_model import PoissonRegressor\n",
    "from sklearn.pipeline import make_pipeline\n",
    "from sklearn.metrics import mean_poisson_deviance, mean_squared_error, r2_score\n",
    "import statsmodels.api as sm\n",
    "from statsmodels.formula.api import glm\n",
    "\n",
    "from sklearn.metrics import mean_squared_error\n"
   ]
  },
  {
   "cell_type": "markdown",
   "id": "17840411-88b2-4e42-838b-55737bd84be0",
   "metadata": {},
   "source": [
    "# Data Loading"
   ]
  },
  {
   "cell_type": "code",
   "execution_count": null,
   "id": "fd3ef375-6b8b-4a9a-81b0-f327588d0efe",
   "metadata": {},
   "outputs": [],
   "source": [
    "github_url = 'https://raw.githubusercontent.com/JetendraMulinti/DAV-6150---DataScience/main/Project%201%20Implementing%20and%20Evaluating%20a%20Series%20of%20Regression%20Models/Project1_Data.csv'\n",
    "\n",
    "df = pd.read_csv(github_url)\n",
    "df.head(2)"
   ]
  }
 ],
 "metadata": {
  "kernelspec": {
   "display_name": "Python 3 (ipykernel)",
   "language": "python",
   "name": "python3"
  },
  "language_info": {
   "codemirror_mode": {
    "name": "ipython",
    "version": 3
   },
   "file_extension": ".py",
   "mimetype": "text/x-python",
   "name": "python",
   "nbconvert_exporter": "python",
   "pygments_lexer": "ipython3",
   "version": "3.9.16"
  }
 },
 "nbformat": 4,
 "nbformat_minor": 5
}
