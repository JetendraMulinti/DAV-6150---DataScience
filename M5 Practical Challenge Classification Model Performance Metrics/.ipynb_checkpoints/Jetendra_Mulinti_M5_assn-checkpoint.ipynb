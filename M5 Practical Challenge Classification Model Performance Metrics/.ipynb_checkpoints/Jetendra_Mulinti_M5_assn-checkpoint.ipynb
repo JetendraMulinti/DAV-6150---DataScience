{
 "cells": [
  {
   "cell_type": "markdown",
   "id": "d4744c43",
   "metadata": {},
   "source": [
    "# Team Members:\n",
    "\n",
    "Jetendra Mulinti, Goutham Vemula, Prajeeth Nakka"
   ]
  },
  {
   "cell_type": "markdown",
   "id": "2420a1e7",
   "metadata": {},
   "source": [
    "Introduction: We are creating Python functions to compute classification model metrics and comparing those outcomes with pre-built functions, alongside generating graphical evaluations of model performance."
   ]
  },
  {
   "cell_type": "code",
   "execution_count": 1,
   "id": "30640eea",
   "metadata": {},
   "outputs": [],
   "source": [
    "# Import libraries\n",
    "import warnings\n",
    "warnings.filterwarnings('ignore')\n",
    "import pandas as pd\n",
    "pd.options.display.max_columns = 999\n",
    "import numpy as np\n",
    "import matplotlib.pyplot as plt\n",
    "from sklearn import metrics"
   ]
  },
  {
   "cell_type": "markdown",
   "id": "b197d7df",
   "metadata": {},
   "source": [
    "## Task 2: Load dataset from GitHub repository into Pandas dataframe"
   ]
  },
  {
   "cell_type": "code",
   "execution_count": 2,
   "id": "50666712",
   "metadata": {},
   "outputs": [
    {
     "data": {
      "text/html": [
       "<div>\n",
       "<style scoped>\n",
       "    .dataframe tbody tr th:only-of-type {\n",
       "        vertical-align: middle;\n",
       "    }\n",
       "\n",
       "    .dataframe tbody tr th {\n",
       "        vertical-align: top;\n",
       "    }\n",
       "\n",
       "    .dataframe thead th {\n",
       "        text-align: right;\n",
       "    }\n",
       "</style>\n",
       "<table border=\"1\" class=\"dataframe\">\n",
       "  <thead>\n",
       "    <tr style=\"text-align: right;\">\n",
       "      <th></th>\n",
       "      <th>pregnant</th>\n",
       "      <th>glucose</th>\n",
       "      <th>diastolic</th>\n",
       "      <th>skinfold</th>\n",
       "      <th>insulin</th>\n",
       "      <th>bmi</th>\n",
       "      <th>pedigree</th>\n",
       "      <th>age</th>\n",
       "      <th>class</th>\n",
       "      <th>scored.class</th>\n",
       "      <th>scored.probability</th>\n",
       "    </tr>\n",
       "  </thead>\n",
       "  <tbody>\n",
       "    <tr>\n",
       "      <th>0</th>\n",
       "      <td>7</td>\n",
       "      <td>124</td>\n",
       "      <td>70</td>\n",
       "      <td>33</td>\n",
       "      <td>215</td>\n",
       "      <td>25.5</td>\n",
       "      <td>0.161</td>\n",
       "      <td>37</td>\n",
       "      <td>0</td>\n",
       "      <td>0</td>\n",
       "      <td>0.328452</td>\n",
       "    </tr>\n",
       "    <tr>\n",
       "      <th>1</th>\n",
       "      <td>2</td>\n",
       "      <td>122</td>\n",
       "      <td>76</td>\n",
       "      <td>27</td>\n",
       "      <td>200</td>\n",
       "      <td>35.9</td>\n",
       "      <td>0.483</td>\n",
       "      <td>26</td>\n",
       "      <td>0</td>\n",
       "      <td>0</td>\n",
       "      <td>0.273190</td>\n",
       "    </tr>\n",
       "    <tr>\n",
       "      <th>2</th>\n",
       "      <td>3</td>\n",
       "      <td>107</td>\n",
       "      <td>62</td>\n",
       "      <td>13</td>\n",
       "      <td>48</td>\n",
       "      <td>22.9</td>\n",
       "      <td>0.678</td>\n",
       "      <td>23</td>\n",
       "      <td>1</td>\n",
       "      <td>0</td>\n",
       "      <td>0.109660</td>\n",
       "    </tr>\n",
       "    <tr>\n",
       "      <th>3</th>\n",
       "      <td>1</td>\n",
       "      <td>91</td>\n",
       "      <td>64</td>\n",
       "      <td>24</td>\n",
       "      <td>0</td>\n",
       "      <td>29.2</td>\n",
       "      <td>0.192</td>\n",
       "      <td>21</td>\n",
       "      <td>0</td>\n",
       "      <td>0</td>\n",
       "      <td>0.055998</td>\n",
       "    </tr>\n",
       "    <tr>\n",
       "      <th>4</th>\n",
       "      <td>4</td>\n",
       "      <td>83</td>\n",
       "      <td>86</td>\n",
       "      <td>19</td>\n",
       "      <td>0</td>\n",
       "      <td>29.3</td>\n",
       "      <td>0.317</td>\n",
       "      <td>34</td>\n",
       "      <td>0</td>\n",
       "      <td>0</td>\n",
       "      <td>0.100491</td>\n",
       "    </tr>\n",
       "  </tbody>\n",
       "</table>\n",
       "</div>"
      ],
      "text/plain": [
       "   pregnant  glucose  diastolic  skinfold  insulin   bmi  pedigree  age  \\\n",
       "0         7      124         70        33      215  25.5     0.161   37   \n",
       "1         2      122         76        27      200  35.9     0.483   26   \n",
       "2         3      107         62        13       48  22.9     0.678   23   \n",
       "3         1       91         64        24        0  29.2     0.192   21   \n",
       "4         4       83         86        19        0  29.3     0.317   34   \n",
       "\n",
       "   class  scored.class  scored.probability  \n",
       "0      0             0            0.328452  \n",
       "1      0             0            0.273190  \n",
       "2      1             0            0.109660  \n",
       "3      0             0            0.055998  \n",
       "4      0             0            0.100491  "
      ]
     },
     "execution_count": 2,
     "metadata": {},
     "output_type": "execute_result"
    }
   ],
   "source": [
    "url = 'https://raw.githubusercontent.com/JetendraMulinti/DAV-6150---DataScience/main/M5%20Practical%20Challenge%20Classification%20Model%20Performance%20Metrics/M5_Data.csv'\n",
    "df = pd.read_csv(url)\n",
    "df.head()"
   ]
  },
  {
   "cell_type": "code",
   "execution_count": 3,
   "id": "a985517e",
   "metadata": {},
   "outputs": [
    {
     "data": {
      "text/plain": [
       "(0, 15)"
      ]
     },
     "execution_count": 3,
     "metadata": {},
     "output_type": "execute_result"
    }
   ],
   "source": [
    "df['pregnant'].min(), df['pregnant'].max()"
   ]
  },
  {
   "cell_type": "markdown",
   "id": "2fdcfeef",
   "metadata": {},
   "source": [
    "## Task 3: Use Pandas' crosstab() to calculate the confusion matrix"
   ]
  },
  {
   "cell_type": "code",
   "execution_count": 4,
   "id": "f2b69de3",
   "metadata": {},
   "outputs": [
    {
     "name": "stdout",
     "output_type": "stream",
     "text": [
      "Confusion Matrix:\n",
      " Predicted    0   1\n",
      "Actual            \n",
      "0          119   5\n",
      "1           30  27\n"
     ]
    }
   ],
   "source": [
    "confusion_matrix = pd.crosstab(df['class'], df['scored.class'], rownames=['Actual'], colnames=['Predicted'])\n",
    "print(\"Confusion Matrix:\\n\", confusion_matrix)"
   ]
  },
  {
   "cell_type": "markdown",
   "id": "4dc8f0f8",
   "metadata": {},
   "source": [
    "## Task 4: Extract confusion matrix values"
   ]
  },
  {
   "cell_type": "code",
   "execution_count": 5,
   "id": "3ce253d9",
   "metadata": {},
   "outputs": [
    {
     "name": "stdout",
     "output_type": "stream",
     "text": [
      "TP:  27\n",
      "FP:  5\n",
      "TN:  119\n",
      "FN:  30\n"
     ]
    }
   ],
   "source": [
    "TP = confusion_matrix[1][1]\n",
    "FP = confusion_matrix[1][0]\n",
    "TN = confusion_matrix[0][0]\n",
    "FN = confusion_matrix[0][1]\n",
    "\n",
    "\n",
    "print(\"TP: \", TP)\n",
    "print(\"FP: \", FP)\n",
    "print(\"TN: \", TN)\n",
    "print(\"FN: \", FN)"
   ]
  },
  {
   "cell_type": "code",
   "execution_count": 6,
   "id": "aed6c52e",
   "metadata": {},
   "outputs": [
    {
     "name": "stdout",
     "output_type": "stream",
     "text": [
      "Count of rows where actual & predicted are 1 (TP):  27\n",
      "Count of rows where actual = 0 & predicted = 1 (FP):  5\n",
      "Count of rows where actual & predicted are 0 (TN):  119\n",
      "Count of rows where actual = 1 & predicted = 0 (FN):  5\n"
     ]
    }
   ],
   "source": [
    "###### Validating the the confusion matrix values manually\n",
    "\n",
    "print(\"Count of rows where actual & predicted are 1 (TP): \",len(df[(df['class'] == 1) & (df['scored.class'] == 1)]))\n",
    "print(\"Count of rows where actual = 0 & predicted = 1 (FP): \",len(df[(df['class'] == 0) & (df['scored.class'] == 1)]))\n",
    "print(\"Count of rows where actual & predicted are 0 (TN): \",len(df[(df['class'] == 0) & (df['scored.class'] == 0)]))\n",
    "print(\"Count of rows where actual = 1 & predicted = 0 (FN): \",len(df[(df['class'] == 0) & (df['scored.class'] == 1)]))"
   ]
  },
  {
   "cell_type": "markdown",
   "id": "ddc786ef",
   "metadata": {},
   "source": [
    "## Task 5: Function to calculate accuracy \n",
    "Tells us total correct values %"
   ]
  },
  {
   "cell_type": "code",
   "execution_count": 7,
   "id": "96cc4cf5",
   "metadata": {},
   "outputs": [],
   "source": [
    "def calculate_accuracy(actual, predicted):\n",
    "    correct = (actual == predicted).sum()\n",
    "    total = len(actual)\n",
    "    accuracy = correct / total\n",
    "    return accuracy"
   ]
  },
  {
   "cell_type": "markdown",
   "id": "c9f5923e",
   "metadata": {},
   "source": [
    "## Task 6: Function to calculate precision \n",
    "Tells us quality of positive predictions\n",
    "\n",
    "Imp for use-cases like: Email Spam Detection & Financial Fraud Detection and so on.. "
   ]
  },
  {
   "cell_type": "code",
   "execution_count": 8,
   "id": "8ad31049",
   "metadata": {},
   "outputs": [],
   "source": [
    "def calculate_precision(TP, FP):\n",
    "    precision = TP / (TP + FP)\n",
    "    return precision"
   ]
  },
  {
   "cell_type": "markdown",
   "id": "e571997c",
   "metadata": {},
   "source": [
    "## Task 7: Function to calculate sensitivity (recall) \n",
    "ability to detect positive instances, crucial for cases where missing positives could have serious implications.\n",
    "\n",
    "Imp for use-cases like: Disease Screening & Criminal Investigations and so on.."
   ]
  },
  {
   "cell_type": "code",
   "execution_count": 9,
   "id": "e2b4e335",
   "metadata": {},
   "outputs": [],
   "source": [
    "def calculate_sensitivity(TP, FN):\n",
    "    sensitivity = TP / (TP + FN)\n",
    "    return sensitivity"
   ]
  },
  {
   "cell_type": "markdown",
   "id": "6eb34436",
   "metadata": {},
   "source": [
    "## Task 8: Function to calculate specificity \n",
    "identify negative instances, important in contexts where false alarms are to be minimized.\n",
    "\n",
    "Imp for use-cases like: Drug Testing"
   ]
  },
  {
   "cell_type": "code",
   "execution_count": 10,
   "id": "5ec25430",
   "metadata": {},
   "outputs": [],
   "source": [
    "def calculate_specificity(TN, FP):\n",
    "    specificity = TN / (TN + FP)\n",
    "    return specificity"
   ]
  },
  {
   "cell_type": "markdown",
   "id": "38cb3065",
   "metadata": {},
   "source": [
    "# Task 9: Function to calculate F1 Score\n",
    "Balances precision and recall, useful for comparing models that have similar accuracies but differ in their precision and recall values.\n",
    "\n",
    "Imp for use-cases like Customer Churn Prediction"
   ]
  },
  {
   "cell_type": "code",
   "execution_count": 11,
   "id": "3fe725ff",
   "metadata": {},
   "outputs": [],
   "source": [
    "def calculate_f1_score(precision, recall):\n",
    "    f1_score = 2 * (precision * recall) / (precision + recall)\n",
    "    return f1_score"
   ]
  },
  {
   "cell_type": "markdown",
   "id": "cebc5d4c",
   "metadata": {},
   "source": [
    "# Task 10: Function to plot ROC curve and calculate AUC\n",
    "\n",
    "1. The ROC curve assesses how well a model can distinguish between two classes.\n",
    "2. It plots True Positive Rate (Sensitivity) against False Positive Rate (1-Specificity) to show the trade-off between capturing positives and avoiding false alarms..\n",
    "3. The area under the curve (AUC) provides a single value summarizing model performance across all thresholds, with higher values indicating better discrimination between positive and negative classes."
   ]
  },
  {
   "cell_type": "code",
   "execution_count": 12,
   "id": "7cbbbb98",
   "metadata": {},
   "outputs": [],
   "source": [
    "def plot_roc_and_calculate_auc(actual, probabilities):\n",
    "    fpr, tpr, thresholds = metrics.roc_curve(actual, probabilities)\n",
    "    auc = metrics.auc(fpr, tpr)\n",
    "    \n",
    "    plt.figure()\n",
    "    plt.plot(fpr, tpr, label=f'ROC curve (area = {auc})')\n",
    "    plt.plot([0, 1], [0, 1], 'k--')\n",
    "    plt.xlim([0.0, 1.0])\n",
    "    plt.ylim([0.0, 1.05])\n",
    "    plt.xlabel('False Positive Rate')\n",
    "    plt.ylabel('True Positive Rate')\n",
    "    plt.title('Receiver Operating Characteristic')\n",
    "    plt.legend(loc=\"lower right\")\n",
    "    plt.show()\n",
    "    \n",
    "    return auc"
   ]
  },
  {
   "cell_type": "markdown",
   "id": "75bd26fb",
   "metadata": {},
   "source": [
    "# Task 11: Apply the created functions to the dataset"
   ]
  },
  {
   "cell_type": "code",
   "execution_count": 13,
   "id": "381180e6",
   "metadata": {},
   "outputs": [
    {
     "name": "stdout",
     "output_type": "stream",
     "text": [
      "Accuracy: 0.8066298342541437, Precision: 0.84375, Sensitivity: 0.47368421052631576, Specificity: 0.9596774193548387, F1 Score: 0.6067415730337079\n"
     ]
    }
   ],
   "source": [
    "accuracy = calculate_accuracy(df['class'], df['scored.class'])\n",
    "precision = calculate_precision(TP, FP)\n",
    "sensitivity = calculate_sensitivity(TP, FN)\n",
    "specificity = calculate_specificity(TN, FP)\n",
    "f1_score = calculate_f1_score(precision, sensitivity)\n",
    "print(f\"Accuracy: {accuracy}, Precision: {precision}, Sensitivity: {sensitivity}, Specificity: {specificity}, F1 Score: {f1_score}\")"
   ]
  },
  {
   "cell_type": "markdown",
   "id": "a2c41804",
   "metadata": {},
   "source": [
    "# Task 12: Compare with scikit-learn functions"
   ]
  },
  {
   "cell_type": "code",
   "execution_count": 16,
   "id": "f39fbe21",
   "metadata": {},
   "outputs": [
    {
     "name": "stdout",
     "output_type": "stream",
     "text": [
      "Scikit-learn Metrics:\n",
      "Accuracy: 0.8066298342541437, Precision: 0.84375, Recall: 0.47368421052631576, F1 Score: 0.6067415730337079\n",
      "\n",
      "Classification Report:\n",
      "              precision    recall  f1-score   support\n",
      "\n",
      "           0       0.80      0.96      0.87       124\n",
      "           1       0.84      0.47      0.61        57\n",
      "\n",
      "    accuracy                           0.81       181\n",
      "   macro avg       0.82      0.72      0.74       181\n",
      "weighted avg       0.81      0.81      0.79       181\n",
      "\n"
     ]
    }
   ],
   "source": [
    "sklearn_accuracy = metrics.accuracy_score(df['class'], df['scored.class'])\n",
    "sklearn_precision = metrics.precision_score(df['class'], df['scored.class'])\n",
    "sklearn_recall = metrics.recall_score(df['class'], df['scored.class'])\n",
    "sklearn_f1_score = metrics.f1_score(df['class'], df['scored.class'])\n",
    "classification_report = metrics.classification_report(df['class'], df['scored.class'])\n",
    "print(f\"Scikit-learn Metrics:\\nAccuracy: {sklearn_accuracy}, Precision: {sklearn_precision}, Recall: {sklearn_recall}, F1 Score: {sklearn_f1_score}\\n\\nClassification Report:\\n{classification_report}\")"
   ]
  },
  {
   "cell_type": "markdown",
   "id": "33c51a7a",
   "metadata": {},
   "source": [
    "Both Pre-built scores & function scores are matching, it has good accuracy"
   ]
  },
  {
   "cell_type": "markdown",
   "id": "f409fdc3",
   "metadata": {},
   "source": [
    "# Task 13: Generate ROC plot and calculate AUC using scikit-learn"
   ]
  },
  {
   "cell_type": "code",
   "execution_count": 15,
   "id": "21a33b9a",
   "metadata": {},
   "outputs": [
    {
     "data": {
      "image/png": "[encoded data removed]",
      "text/plain": [
       "<Figure size 640x480 with 1 Axes>"
      ]
     },
     "metadata": {},
     "output_type": "display_data"
    },
    {
     "name": "stdout",
     "output_type": "stream",
     "text": [
      "AUC: 0.8503112620260327\n"
     ]
    }
   ],
   "source": [
    "auc = plot_roc_and_calculate_auc(df['class'], df['scored.probability'])\n",
    "print(f\"AUC: {auc}\")"
   ]
  },
  {
   "cell_type": "markdown",
   "id": "f53c28a9",
   "metadata": {},
   "source": [
    "## Conclusion:\n",
    "\n",
    "1. The AUC of the ROC curve is 0.85, which is considered to be good performance. This means that the model is able to distinguish between positive and negative classes better than random guessing.\n",
    "\n",
    "2. The ROC curve is close to the upper left corner, which indicates that the model has a high true positive rate and a low false positive rate. This means that the model is able to correctly identify positive cases without making many mistakes."
   ]
  }
 ],
 "metadata": {
  "kernelspec": {
   "display_name": "Python 3 (ipykernel)",
   "language": "python",
   "name": "python3"
  },
  "language_info": {
   "codemirror_mode": {
    "name": "ipython",
    "version": 3
   },
   "file_extension": ".py",
   "mimetype": "text/x-python",
   "name": "python",
   "nbconvert_exporter": "python",
   "pygments_lexer": "ipython3",
   "version": "3.9.16"
  }
 },
 "nbformat": 4,
 "nbformat_minor": 5
}
